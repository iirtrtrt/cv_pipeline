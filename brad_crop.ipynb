{
 "cells": [
  {
   "cell_type": "code",
   "execution_count": null,
   "id": "a4aa4c26",
   "metadata": {},
   "outputs": [
    {
     "name": "stderr",
     "output_type": "stream",
     "text": [
      "WARNING: All log messages before absl::InitializeLog() is called are written to STDERR\n",
      "I0000 00:00:1748425072.138033 1492289 gl_context.cc:369] GL version: 2.1 (2.1 Metal - 89.4), renderer: Apple M2\n",
      "INFO: Created TensorFlow Lite XNNPACK delegate for CPU.\n",
      "W0000 00:00:1748425072.147778 1502956 inference_feedback_manager.cc:114] Feedback manager requires a model with a single signature inference. Disabling support for feedback tensors.\n",
      "W0000 00:00:1748425072.153953 1502959 inference_feedback_manager.cc:114] Feedback manager requires a model with a single signature inference. Disabling support for feedback tensors.\n",
      "W0000 00:00:1748425072.156346 1502954 landmark_projection_calculator.cc:186] Using NORM_RECT without IMAGE_DIMENSIONS is only supported for the square ROI. Provide IMAGE_DIMENSIONS or use PROJECTION_MATRIX.\n"
     ]
    },
    {
     "data": {
      "text/plain": [
       "True"
      ]
     },
     "execution_count": 1,
     "metadata": {},
     "output_type": "execute_result"
    }
   ],
   "source": [
    "import cv2\n",
    "import mediapipe as mp\n",
    "import numpy as np\n",
    "\n",
    "img = cv2.imread(\"brad_5/camera_front.png\")\n",
    "h, w, _ = img.shape\n",
    "\n",
    "mp_face_mesh = mp.solutions.face_mesh\n",
    "face_mesh = mp_face_mesh.FaceMesh(static_image_mode=True, refine_landmarks=True)\n",
    "\n",
    "img_rgb = cv2.cvtColor(img, cv2.COLOR_BGR2RGB)\n",
    "\n",
    "\n",
    "results = face_mesh.process(img_rgb)\n",
    "\n",
    "\n",
    "mask = np.zeros((h, w), dtype=np.uint8)\n",
    "\n",
    "if results.multi_face_landmarks:\n",
    "    for face_landmarks in results.multi_face_landmarks:\n",
    "        points = []\n",
    "        for lm in face_landmarks.landmark:\n",
    "            x, y = int(lm.x * w), int(lm.y * h)\n",
    "            points.append((x, y))\n",
    "        points = np.array(points)\n",
    "        hull = cv2.convexHull(points)\n",
    "        cv2.fillConvexPoly(mask, hull, 255)\n",
    "\n",
    "\n",
    "purple_bg = np.full_like(img, (255, 0, 255))\n",
    "\n",
    "foreground = cv2.bitwise_and(img, img, mask=mask)\n",
    "background = cv2.bitwise_and(purple_bg, purple_bg, mask=cv2.bitwise_not(mask))\n",
    "result = cv2.add(foreground, background)\n",
    "\n",
    "\n",
    "cv2.imwrite(\"brad_5/purple_front.png\", result)"
   ]
  },
  {
   "cell_type": "code",
   "execution_count": null,
   "id": "d7b6ea2a",
   "metadata": {},
   "outputs": [
    {
     "name": "stderr",
     "output_type": "stream",
     "text": [
      "I0000 00:00:1748425072.219393 1492289 gl_context.cc:369] GL version: 2.1 (2.1 Metal - 89.4), renderer: Apple M2\n",
      "W0000 00:00:1748425072.221322 1502982 inference_feedback_manager.cc:114] Feedback manager requires a model with a single signature inference. Disabling support for feedback tensors.\n",
      "W0000 00:00:1748425072.227817 1502985 inference_feedback_manager.cc:114] Feedback manager requires a model with a single signature inference. Disabling support for feedback tensors.\n"
     ]
    },
    {
     "data": {
      "text/plain": [
       "True"
      ]
     },
     "execution_count": 2,
     "metadata": {},
     "output_type": "execute_result"
    }
   ],
   "source": [
    "import cv2\n",
    "import mediapipe as mp\n",
    "import numpy as np\n",
    "\n",
    "img = cv2.imread(\"brad_5/camera_left.png\")\n",
    "h, w, _ = img.shape\n",
    "\n",
    "mp_face_mesh = mp.solutions.face_mesh\n",
    "face_mesh = mp_face_mesh.FaceMesh(static_image_mode=True, refine_landmarks=True)\n",
    "\n",
    "img_rgb = cv2.cvtColor(img, cv2.COLOR_BGR2RGB)\n",
    "\n",
    "\n",
    "results = face_mesh.process(img_rgb)\n",
    "\n",
    "\n",
    "mask = np.zeros((h, w), dtype=np.uint8)\n",
    "\n",
    "if results.multi_face_landmarks:\n",
    "    for face_landmarks in results.multi_face_landmarks:\n",
    "        points = []\n",
    "        for lm in face_landmarks.landmark:\n",
    "            x, y = int(lm.x * w), int(lm.y * h)\n",
    "            points.append((x, y))\n",
    "        points = np.array(points)\n",
    "        hull = cv2.convexHull(points)\n",
    "        cv2.fillConvexPoly(mask, hull, 255)\n",
    "\n",
    "\n",
    "purple_bg = np.full_like(img, (255, 0, 255))\n",
    "\n",
    "foreground = cv2.bitwise_and(img, img, mask=mask)\n",
    "background = cv2.bitwise_and(purple_bg, purple_bg, mask=cv2.bitwise_not(mask))\n",
    "result = cv2.add(foreground, background)\n",
    "\n",
    "\n",
    "cv2.imwrite(\"brad_5/purple_left.png\", result)"
   ]
  },
  {
   "cell_type": "code",
   "execution_count": null,
   "id": "2642deea",
   "metadata": {},
   "outputs": [
    {
     "name": "stderr",
     "output_type": "stream",
     "text": [
      "I0000 00:00:1748425072.286558 1492289 gl_context.cc:369] GL version: 2.1 (2.1 Metal - 89.4), renderer: Apple M2\n",
      "W0000 00:00:1748425072.288396 1502996 inference_feedback_manager.cc:114] Feedback manager requires a model with a single signature inference. Disabling support for feedback tensors.\n",
      "W0000 00:00:1748425072.294211 1502997 inference_feedback_manager.cc:114] Feedback manager requires a model with a single signature inference. Disabling support for feedback tensors.\n"
     ]
    },
    {
     "data": {
      "text/plain": [
       "True"
      ]
     },
     "execution_count": 3,
     "metadata": {},
     "output_type": "execute_result"
    }
   ],
   "source": [
    "import cv2\n",
    "import mediapipe as mp\n",
    "import numpy as np\n",
    "\n",
    "img = cv2.imread(\"brad_5/camera_right.png\")\n",
    "h, w, _ = img.shape\n",
    "\n",
    "mp_face_mesh = mp.solutions.face_mesh\n",
    "face_mesh = mp_face_mesh.FaceMesh(static_image_mode=True, refine_landmarks=True)\n",
    "\n",
    "img_rgb = cv2.cvtColor(img, cv2.COLOR_BGR2RGB)\n",
    "\n",
    "\n",
    "results = face_mesh.process(img_rgb)\n",
    "\n",
    "\n",
    "mask = np.zeros((h, w), dtype=np.uint8)\n",
    "\n",
    "if results.multi_face_landmarks:\n",
    "    for face_landmarks in results.multi_face_landmarks:\n",
    "        points = []\n",
    "        for lm in face_landmarks.landmark:\n",
    "            x, y = int(lm.x * w), int(lm.y * h)\n",
    "            points.append((x, y))\n",
    "        points = np.array(points)\n",
    "        hull = cv2.convexHull(points)\n",
    "        cv2.fillConvexPoly(mask, hull, 255)\n",
    "\n",
    "\n",
    "purple_bg = np.full_like(img, (255, 0, 255))\n",
    "\n",
    "foreground = cv2.bitwise_and(img, img, mask=mask)\n",
    "background = cv2.bitwise_and(purple_bg, purple_bg, mask=cv2.bitwise_not(mask))\n",
    "result = cv2.add(foreground, background)\n",
    "\n",
    "\n",
    "cv2.imwrite(\"brad_5/purple_right.png\", result)"
   ]
  }
 ],
 "metadata": {
  "kernelspec": {
   "display_name": "py39",
   "language": "python",
   "name": "python3"
  },
  "language_info": {
   "codemirror_mode": {
    "name": "ipython",
    "version": 3
   },
   "file_extension": ".py",
   "mimetype": "text/x-python",
   "name": "python",
   "nbconvert_exporter": "python",
   "pygments_lexer": "ipython3",
   "version": "3.9.21"
  }
 },
 "nbformat": 4,
 "nbformat_minor": 5
}
